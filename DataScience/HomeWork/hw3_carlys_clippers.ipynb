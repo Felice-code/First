{
 "cells": [
  {
   "cell_type": "code",
   "execution_count": 5,
   "id": "308e2164-bc0f-485a-b715-a97d5beb6bd1",
   "metadata": {},
   "outputs": [
    {
     "name": "stdout",
     "output_type": "stream",
     "text": [
      "average price is 31.875\n",
      "[25, 20, 35, 15, 15, 30, 45, 30]\n",
      "total daily revenue is 155.0\n",
      "['bouffant', 'pixie', 'crew', 'bowl']\n"
     ]
    }
   ],
   "source": [
    "hairstyles = [\"bouffant\", \"pixie\", \"dreadlocks\", \"crew\", \"bowl\", \"bob\", \"mohawk\", \"flattop\"]\n",
    "prices = [30, 25, 40, 20, 20, 35, 50, 35]\n",
    "last_week = [2, 3, 5, 8, 4, 4, 6, 2]\n",
    "\n",
    "total_price =  0\n",
    "for i in prices:\n",
    "    total_price += i\n",
    "\n",
    "average_price = total_price / len(prices)    \n",
    "print('average price is {}'.format(average_price))\n",
    "new_prices = [i - 5 for i in prices]\n",
    "print(new_prices)\n",
    "\n",
    "total_revenue = 0\n",
    "for i in range(len(hairstyles)):\n",
    "    total_revenue += (prices[i] * last_week[i])\n",
    "\n",
    "average_daily_revenue = total_revenue / 7 \n",
    "print('total daily revenue is {}'.format(average_daily_revenue))\n",
    "\n",
    "cuts_under_30 = list()\n",
    "cuts_under_30 = [hairstyles[i] for i in range(len(new_prices)) if new_prices[i] < 30]\n",
    "print(cuts_under_30)"
   ]
  },
  {
   "cell_type": "code",
   "execution_count": null,
   "id": "a7c6255b-283b-4714-9b7c-81e397e6ea6d",
   "metadata": {},
   "outputs": [],
   "source": []
  }
 ],
 "metadata": {
  "kernelspec": {
   "display_name": "Python 3",
   "language": "python",
   "name": "python3"
  },
  "language_info": {
   "codemirror_mode": {
    "name": "ipython",
    "version": 3
   },
   "file_extension": ".py",
   "mimetype": "text/x-python",
   "name": "python",
   "nbconvert_exporter": "python",
   "pygments_lexer": "ipython3",
   "version": "3.8.8"
  }
 },
 "nbformat": 4,
 "nbformat_minor": 5
}
