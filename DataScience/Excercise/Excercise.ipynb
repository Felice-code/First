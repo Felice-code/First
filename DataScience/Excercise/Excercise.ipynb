{
 "cells": [
  {
   "cell_type": "code",
   "execution_count": 3,
   "id": "ca8d3d2d-50f6-4018-941b-71b471100a7d",
   "metadata": {},
   "outputs": [
    {
     "name": "stdout",
     "output_type": "stream",
     "text": [
      "Hello World!\n",
      "100\n",
      "3.14\n"
     ]
    }
   ],
   "source": [
    "\"\"\"\n",
    "print() function\n",
    "\"\"\"\n",
    "\n",
    "print(\"Hello World!\")\n",
    "print(100)\n",
    "pi = 3.14\n",
    "print(pi)"
   ]
  },
  {
   "cell_type": "code",
   "execution_count": 4,
   "id": "fab636fd-8ea1-4f97-8b4e-b12b06ae635d",
   "metadata": {},
   "outputs": [],
   "source": [
    "\"\"\"\n",
    "asd\n",
    "\"\"\"\n",
    "\n",
    "my_name = \"lee\"\n",
    "age = 23\n",
    "my_email = \"hamgame3@hs.ac.kr\"\n"
   ]
  },
  {
   "cell_type": "code",
   "execution_count": 5,
   "id": "10c5915d-4cf8-44c6-8b0e-8885fc4a7492",
   "metadata": {},
   "outputs": [],
   "source": [
    "\"\"\"\n",
    "Data Type: Integer\n",
    "\"\"\"\n",
    "\n",
    "value = 10\n",
    "my_Phone = 2\n",
    "my_book = 27"
   ]
  },
  {
   "cell_type": "code",
   "execution_count": 6,
   "id": "52d59998-aa25-4cb6-b055-bb969a07dd5b",
   "metadata": {},
   "outputs": [],
   "source": [
    "\"\"\"Data Type: Real Number\"\"\"\n",
    "\n",
    "PI = 3.14\n",
    "my_tall = 173.4\n",
    "gold_price = 67502.96\n"
   ]
  },
  {
   "cell_type": "code",
   "execution_count": 9,
   "id": "7106f462-710a-44d7-9162-5eaebacae341",
   "metadata": {},
   "outputs": [
    {
     "name": "stdout",
     "output_type": "stream",
     "text": [
      "SamSung\n",
      "pasta\n",
      "BMW\n",
      "SamSungpastaBMW\n"
     ]
    }
   ],
   "source": [
    "\"\"\"\n",
    "Data Type: String\n",
    "\"\"\"\n",
    "favorite_company = 'SamSung'\n",
    "favorite_food = 'pasta'\n",
    "favorite_carbrand = 'BMW'\n",
    "\n",
    "print(favorite_company)\n",
    "print(favorite_food)\n",
    "print(favorite_carbrand)\n",
    "\n",
    "print(favorite_company + favorite_food +favorite_carbrand)\n"
   ]
  },
  {
   "cell_type": "code",
   "execution_count": 8,
   "id": "165070c8-95a1-4ac5-a271-87b96c9963b3",
   "metadata": {},
   "outputs": [
    {
     "name": "stdout",
     "output_type": "stream",
     "text": [
      "Error\n",
      "continue\n"
     ]
    }
   ],
   "source": [
    "\"\"\"\n",
    "Exception Handling\n",
    "\"\"\"\n",
    "\n",
    "x = 1\n",
    "try:\n",
    "    print(y)\n",
    "    print(x)\n",
    "\n",
    "except:\n",
    "    print(\"Error\")\n",
    "    \n",
    "print(\"continue\")"
   ]
  },
  {
   "cell_type": "code",
   "execution_count": 4,
   "id": "99a5ae9a-c611-424a-b992-0d5cfb5a057c",
   "metadata": {},
   "outputs": [
    {
     "name": "stdout",
     "output_type": "stream",
     "text": [
      "[2, 3, 5, 7, 11, 11]\n",
      "[]\n"
     ]
    }
   ],
   "source": [
    "\"\"\"\n",
    "List\n",
    "\"\"\"\n",
    "primes = [2, 3, 5, 7, 11, 11] #중복을 허용한다.\n",
    "print(primes)\n",
    "# 리스트 객체 초기화\n",
    "none_list = []\n",
    "print(none_list)"
   ]
  },
  {
   "cell_type": "code",
   "execution_count": 7,
   "id": "d83ff92b-0fca-4f13-b6b1-451399b8ed38",
   "metadata": {},
   "outputs": [
    {
     "name": "stdout",
     "output_type": "stream",
     "text": [
      "['jenny', 1, 1.4, True]\n",
      "[['a', 1], ['b', 2]]\n",
      "2\n"
     ]
    }
   ],
   "source": [
    "\"\"\"\n",
    "Multiple different data type\n",
    "\"\"\"\n",
    "# 여러 데이터 타입의 아이템을 포함할 수 있다.(정수, 문자열, 불린, 리스트 객체등등)\n",
    "mixed = ['jenny', 1, 1.4, True]\n",
    "print(mixed)\n",
    "list_of_lists = [['a', 1], [\"b\", 2]]\n",
    "print(list_of_lists)\n",
    "print(list_of_lists[1][1])\n"
   ]
  },
  {
   "cell_type": "code",
   "execution_count": 10,
   "id": "f31959b5-912f-4d78-b57b-bbd030311a05",
   "metadata": {},
   "outputs": [
    {
     "name": "stdout",
     "output_type": "stream",
     "text": [
      "aaa\n",
      "bbb\n",
      "ccc\n",
      "ddd\n",
      "ddd\n",
      "ccc\n",
      "bbb\n",
      "aaa\n"
     ]
    }
   ],
   "source": [
    "\"\"\"\n",
    "Zero-indexing\n",
    "\"\"\"\n",
    "#인덱스: 리스트의 특정 아이템 위치를 나타내는 정수\n",
    "#-list[index]:인덱스를 사용하여 리스트 내의 특정 아이템에 접근\n",
    "# zero-indexing방식 : 0부터 시작한다.\n",
    "# - list[0]:리스트의 첫 아이템\n",
    "\n",
    "name = ['aaa', 'bbb', 'ccc', 'ddd']\n",
    "print(name[0])\n",
    "print(name[1])\n",
    "print(name[2])\n",
    "print(name[3])\n",
    "\n",
    "#음수 인덱스 방식: 리스트의 마지막 아이템을 기준으로 인덱싱 -1 -2 -3 ~~\n",
    "print(name[-1])\n",
    "print(name[-2])\n",
    "print(name[-3])\n",
    "print(name[-4])"
   ]
  },
  {
   "cell_type": "code",
   "execution_count": 12,
   "id": "00506b29-77b1-47e6-b997-113f3b808d6b",
   "metadata": {},
   "outputs": [
    {
     "data": {
      "text/plain": [
       "'\\nList slicing\\n'"
      ]
     },
     "execution_count": 12,
     "metadata": {},
     "output_type": "execute_result"
    }
   ],
   "source": [
    "\"\"\"\n",
    "List slicing\n",
    "\"\"\"\n",
    "#슬라이스: 리스트의 부분집합\n",
    "#리스트 슬라이싱: 특정 인덱스 범위에 해당되는 슬라이스를 구하는 연산\n",
    "#-사용법 List[1, 2, 3, 4, 5, 6] list[0:2] -> 1, 2\n",
    "#리스트 아이템 수정: list[index] = new value\n"
   ]
  },
  {
   "cell_type": "code",
   "execution_count": 14,
   "id": "446d6e7a-656d-4cd7-8ee0-0fae2e388732",
   "metadata": {},
   "outputs": [
    {
     "name": "stdout",
     "output_type": "stream",
     "text": [
      "6\n"
     ]
    }
   ],
   "source": [
    "\"\"\"\n",
    "Multi-Dimensional Lists\n",
    "\"\"\"\n",
    "# 2차원 리스트 선언: List = [[sub_list1], [sub_list2]]\n",
    "multi_list = [[1, 2, 3], [4, 5, 6], [7, 8, 9]]\n",
    "print(multi_list[1][2])\n",
    "\n",
    "# 2차원 리스트 아이템 수정:list[index][index] = new value\n"
   ]
  },
  {
   "cell_type": "code",
   "execution_count": 16,
   "id": "172000f9-c117-4002-901b-350ed565d380",
   "metadata": {},
   "outputs": [
    {
     "name": "stdout",
     "output_type": "stream",
     "text": [
      "[1, 2, 3, 4, 5, 6]\n"
     ]
    }
   ],
   "source": [
    "\"\"\"\n",
    "Adding Lists Tgether\n",
    "\"\"\"\n",
    "items_one = [1, 2, 3]\n",
    "items_two = [4, 5, 6]\n",
    "\n",
    "total_item = items_one + items_two\n",
    "print(total_item)"
   ]
  },
  {
   "cell_type": "code",
   "execution_count": 2,
   "id": "7095176e-5b8b-4f39-a0d9-b01531e16629",
   "metadata": {},
   "outputs": [
    {
     "name": "stdout",
     "output_type": "stream",
     "text": [
      "6\n",
      "2\n",
      "[2, 4, 3, 7, 10, 4, 1]\n",
      "[2, 1, 4, 3, 7, 10, 4, 1]\n",
      "[2, 4, 3, 7, 10, 4, 1]\n",
      "[2, 3, 4, 4, 7, 10]\n"
     ]
    }
   ],
   "source": [
    "\"\"\"\n",
    "Useful Method for Lists\n",
    "\"\"\"\n",
    "\n",
    "#len(): 리스트 크기를 리턴\n",
    "#count(): 특정 아이템의 개수를 리턴\n",
    "#append(): 아이템을 리스트의 끝에추가\n",
    "#insert(): 아이템을 리스트의 특정 위치에 추가\n",
    "#pop():특정 위치의 아이템을 삭제\n",
    "#remove(): 특정 아이템을 삭제\n",
    "#sort(): 리스트 내 아이템들을 정렬\n",
    "#sorted(): 정렬된 리스트를 리턴(원본 리스트를 건드리지 않고 싶을때 사용)\n",
    "back = [2, 4, 3, 7, 10, 4]\n",
    "size = len(back)\n",
    "print(size)\n",
    "count = back.count(4)\n",
    "print(count)\n",
    "back.append(1)\n",
    "print(back)\n",
    "back.insert(1, 1)\n",
    "print(back)\n",
    "back.pop(1)\n",
    "print(back)\n",
    "back.remove(1)\n",
    "#back.remove(213)\n",
    "back.sort()\n",
    "print(back)"
   ]
  },
  {
   "cell_type": "code",
   "execution_count": 3,
   "id": "37e2389f-2a29-4f3a-9cee-61f271bc049b",
   "metadata": {},
   "outputs": [
    {
     "data": {
      "text/plain": [
       "'\\nlopps\\n'"
      ]
     },
     "execution_count": 3,
     "metadata": {},
     "output_type": "execute_result"
    }
   ],
   "source": [
    "\"\"\"\n",
    "lopps\n",
    "\"\"\"\n",
    "#반복문: 프로그램의 특정 부분을 반복적으로 실행하기 위한 제어문\n",
    "#파이썬에서는 for whlie 키워드를 통해 반복문을 작성\n",
    "\n",
    "#순차적\n",
    "#제어문-if elif else\n",
    "#반복문-for while"
   ]
  },
  {
   "cell_type": "code",
   "execution_count": 7,
   "id": "08b81db5-9fe7-4c38-8992-f1541e6f4b47",
   "metadata": {},
   "outputs": [
    {
     "name": "stdout",
     "output_type": "stream",
     "text": [
      "1\n",
      "2\n",
      "3\n",
      "4\n",
      "5\n",
      "0\n",
      "1\n",
      "2\n",
      "3\n",
      "4\n"
     ]
    }
   ],
   "source": [
    "\"\"\"\n",
    "for loops\n",
    "\"\"\"\n",
    "#for문:리스트의 아이템 마다 반복문을 실행한다.\n",
    "#-> for A in B\n",
    "\n",
    "nums =[1, 2, 3, 4, 5]\n",
    "\n",
    "for num in nums:\n",
    "    print(num)\n",
    "\n",
    "#n 번 만큼 반복하고 싶을 땐? range(n)- n개의 정수들로 구성된 시르트를 반환(0, 1, 2, 3, 4, 5 ..., n-1)\n",
    "#range()\n",
    "for i in range(5):\n",
    "    print(i)"
   ]
  },
  {
   "cell_type": "code",
   "execution_count": 10,
   "id": "0eb568e0-c797-47d4-aa44-d40b0c42d95f",
   "metadata": {},
   "outputs": [
    {
     "name": "stdout",
     "output_type": "stream",
     "text": [
      "1\n",
      "3\n",
      "5\n"
     ]
    }
   ],
   "source": [
    "\"\"\"\n",
    "continue keyword\n",
    "\"\"\"\n",
    "#continue 키워드:남은 코드들을 건너뛰고 다음 반복을 시작한다.\n",
    "\n",
    "nums = [1, 2, 3, 4, 5, 6]\n",
    "for num in nums:\n",
    "    if num % 2 == 0:\n",
    "        continue\n",
    "    print(num)"
   ]
  },
  {
   "cell_type": "code",
   "execution_count": 13,
   "id": "f6ed7ed1-1769-45b2-bcf5-13a8202d4936",
   "metadata": {},
   "outputs": [
    {
     "name": "stdout",
     "output_type": "stream",
     "text": [
      "stage1is complete\n",
      "stage2is complete\n",
      "stage3is complete\n",
      "gameover\n"
     ]
    }
   ],
   "source": [
    "\"\"\"\n",
    "break keyword\n",
    "\"\"\"\n",
    "#break 키워드: 실행중인 반복문 종료\n",
    "\n",
    "game_play= ['stage1', 'stage2', 'stage3', 'gameover', 'stage4', 'stage5']\n",
    "\n",
    "for play in game_play:\n",
    "    \n",
    "    if play == \"gameover\":\n",
    "        print(\"gameover\")\n",
    "        break\n",
    "    print(play + \"is complete\")"
   ]
  },
  {
   "cell_type": "code",
   "execution_count": 1,
   "id": "04fc1085-1b68-49b7-9843-73f6c1398931",
   "metadata": {},
   "outputs": [
    {
     "name": "stdout",
     "output_type": "stream",
     "text": [
      "0\n",
      "1\n",
      "2\n",
      "3\n",
      "4\n",
      "[1, 2, 3, 4, 5, 6, 7, 8, 9, 10]\n",
      "['1']\n"
     ]
    }
   ],
   "source": [
    "\"\"\"\n",
    "list comprehension\n",
    "\"\"\"\n",
    "#리스트 컴프리헨션: for문을 이용한 리스트 생성\n",
    "#사용법: result = [expression for item in list]\n",
    "\n",
    "for i in range(5):\n",
    "    print(i)\n",
    "\n",
    "arr = [i+1 for i in range(10)]\n",
    "print(arr)\n",
    "\n",
    "#리스트 컴프리헨션에 조건을 정의할 수 있다.\n",
    "\n",
    "gamer = [['1', 'A'], ['2', 'B'], ['3', 'D']]\n",
    "good_gamer = [player[0] for player in gamer if player[1] == 'A']\n",
    "print(good_gamer)\n"
   ]
  },
  {
   "cell_type": "code",
   "execution_count": 2,
   "id": "17d2e64e-9fab-46e0-a261-c50e7abd3f0f",
   "metadata": {},
   "outputs": [
    {
     "name": "stdout",
     "output_type": "stream",
     "text": [
      "1 x 1 = 1\n",
      "1 x 2 = 2\n",
      "1 x 3 = 3\n",
      "2 x 1 = 2\n",
      "2 x 2 = 4\n",
      "2 x 3 = 6\n",
      "3 x 1 = 3\n",
      "3 x 2 = 6\n",
      "3 x 3 = 9\n"
     ]
    }
   ],
   "source": [
    "\"\"\"\n",
    "nested loops\n",
    "\"\"\"\n",
    "#중첩된 루프: 반복문안에 반복문이 있음\n",
    "one_to_third = [i+1 for i in range(3)]\n",
    "for i in one_to_third:\n",
    "    for j in one_to_third:\n",
    "        print(\"{} x {} = {}\".format(i, j, i*j))"
   ]
  },
  {
   "cell_type": "code",
   "execution_count": 3,
   "id": "6d036de7-dbe9-4c30-aa53-f42b9b1b1a59",
   "metadata": {},
   "outputs": [
    {
     "name": "stdout",
     "output_type": "stream",
     "text": [
      "11\n",
      "11\n",
      "11\n",
      "11\n"
     ]
    }
   ],
   "source": [
    "\"\"\"\n",
    "while loops\n",
    "\"\"\"\n",
    "#while문: 조건이 True일떄 반복 실행\n",
    "\n",
    "\"\"\"\n",
    "infinite loops\n",
    "\"\"\"\n",
    "#무한루프: 종료가 되지 않고 무한히 실행되는 경우 ->원인: while반복문 종료 조건이 없는경우\n",
    "\n",
    "x = 1\n",
    "y = 1\n",
    "while y < 5:\n",
    "    print(\"11\")\n",
    "    y += 1"
   ]
  },
  {
   "cell_type": "code",
   "execution_count": 4,
   "id": "c4f47d72-7806-450b-95f4-fda562d42310",
   "metadata": {},
   "outputs": [
    {
     "name": "stdout",
     "output_type": "stream",
     "text": [
      "2\n"
     ]
    }
   ],
   "source": [
    "\"\"\"\n",
    "Function\n",
    "\"\"\"\n",
    "#프로그램의 함수: 어떤 기능을 수행하는 코드 집합 -> def fun_name(parameter):\n",
    "#-주어진 입력x를 처리하여 출력을 반환한다.\n",
    "#-특징: 이름에 의한 호출, 재사용성이 있음(len(), print(), range()'')\n",
    "#대부분의 함수에는 입력이 필요하다.\n",
    "#매개변수: 함수에 정의된 입력 변수\n",
    "#인자:함수 호출 시의 입력 - 입력된 인자는 함수에 전달되어 매개변수의 값으로 할당\n",
    "\n",
    "#함수의 입력이 많은경우 -키워드 인자: 함수 호출 시 매겨변수명과 인자 값을 같이 입력으로 제공-매개 변수 순서와 상관 없이 인자 전달가능\n",
    "#                     -디플도 값: 함수에 정의된 매개변수의 기본값- 함수 호출 시 인자가 없어도 동작\n",
    "\n",
    "def my_function(x):\n",
    "    return x+1\n",
    "\n",
    "print(my_function(1))"
   ]
  },
  {
   "cell_type": "code",
   "execution_count": 22,
   "id": "0c98afd3-1a93-42b2-944e-3bab48926431",
   "metadata": {},
   "outputs": [],
   "source": [
    "\"\"\"\n",
    "Method\n",
    "\"\"\"\n",
    "#메서드:특정 클래스 내에 선언된 함수\n",
    "#List.count(), List.append()\n",
    "\n",
    "#객체지향 프로그래밍 - 클래스(정의) -속성(변수)\n",
    "#                                - 행동(매서드)\n",
    "#클래스를 만들었다면 인스턴스화 시켜야한다 인스턴스 == 객체\n",
    "#지금 까지 배운 제어문:if, elif, else, for, while, function ->코드 블럭- 코드 블럭은 : 문자와 들여쓰기를 통해 구분\n",
    "class my_class:\n",
    "    def my_method(x):\n",
    "        return x + 1\n",
    "    \n",
    "cls = my_class()"
   ]
  },
  {
   "cell_type": "code",
   "execution_count": 21,
   "id": "48264338-549f-492a-93cc-4499c79ada16",
   "metadata": {},
   "outputs": [
    {
     "name": "stdout",
     "output_type": "stream",
     "text": [
      "2020is a leap year\n"
     ]
    }
   ],
   "source": [
    "\"\"\"\n",
    "Return Keyword\n",
    "\"\"\"\n",
    "#파이썬 함수에서는 여러개의 값을 반환하는 것이 가능하다.\n",
    "#Lead year:윤년\n",
    "\n",
    "def check_leap_year(year):\n",
    "    if year % 4 == 0:\n",
    "        return str(year) + \"is a leap year\"\n",
    "    else:\n",
    "        return str(year) + \"is a not leap year\"\n",
    "    \n",
    "result = check_leap_year(2020)\n",
    "print(result)"
   ]
  },
  {
   "cell_type": "code",
   "execution_count": 25,
   "id": "02822c50-71d4-433e-9f2f-c4789e89b1c2",
   "metadata": {},
   "outputs": [
    {
     "name": "stdout",
     "output_type": "stream",
     "text": [
      "hello\n"
     ]
    }
   ],
   "source": [
    "\"\"\"\n",
    "Global variables\n",
    "\"\"\"\n",
    "#변수의 선언위치에 따라 전역변수와 지역변수로 나눠진다.\n",
    "#전역변수: 함수 밖에서 정의된 변수 - 함수 안/밖에서 모두 사용 가능하다\n",
    "#지역변수: 함수 안에서만 사용이가능하다. 함수밖에서 사용불가\n",
    "a = \"hello\"\n",
    "\n",
    "def prints_a():\n",
    "    print(a)\n",
    "    \n",
    "\n",
    "prints_a()  "
   ]
  },
  {
   "cell_type": "code",
   "execution_count": 26,
   "id": "bce5ef13-59d0-42f7-a2b2-c1323aa36ab5",
   "metadata": {},
   "outputs": [
    {
     "name": "stdout",
     "output_type": "stream",
     "text": [
      "height =1\n",
      "width =2\n",
      "depth =3\n",
      "5\n",
      "height =1\n",
      "width =2\n",
      "depth =3\n",
      "5\n"
     ]
    }
   ],
   "source": [
    "\"\"\"\n",
    "Keyword Arguments\n",
    "\"\"\"\n",
    "def findvolume(height, width, depth): #def findvolume(height =1,width =2, depth =3): \n",
    "    print(\"height =\" + str(height))\n",
    "    print(\"width =\" + str(width))\n",
    "    print(\"depth =\" + str(depth))\n",
    "    return height + height + depth\n",
    "\n",
    "print(findvolume(1, 2, 3))\n",
    "print(findvolume(height =1,width =2, depth =3))"
   ]
  },
  {
   "cell_type": "code",
   "execution_count": 1,
   "id": "aa6949c9-7ae3-438d-97f3-7b5125fd656d",
   "metadata": {},
   "outputs": [
    {
     "data": {
      "text/plain": [
       "'\\nNumPy\\n'"
      ]
     },
     "execution_count": 1,
     "metadata": {},
     "output_type": "execute_result"
    }
   ],
   "source": [
    "\"\"\"\n",
    "NumPy\n",
    "\"\"\"\n",
    "#파이썬은 빠르지는 않고 코드생산성이 좋다 - 인터프리터 방식, 동적타입언어 이기 때문이다\n",
    "#NumPy: 수치연산에 특화된 라이브러리 -다차원배열을 중심으로 한 다양한 수치계산을 위한 함수들을 제공\n",
    "#                                 - 많은 부분이 C와Fortran으로 구현 -> 파이썬 기본 라이브러리보다 빠른 연산이 가능하다.\n",
    "#패키지 설지:pip install numpy \n",
    "#패키지 사용하기: import numpy as np\n"
   ]
  },
  {
   "cell_type": "code",
   "execution_count": 8,
   "id": "5f1fefad-9053-44b2-a84b-eb104867462a",
   "metadata": {},
   "outputs": [],
   "source": [
    "import numpy as np\n",
    "import pandas as pd\n",
    "from matplotlib import pyplot as plt"
   ]
  },
  {
   "cell_type": "code",
   "execution_count": 9,
   "id": "e607d2df-4427-4d08-b264-ee81f7fac2d4",
   "metadata": {},
   "outputs": [
    {
     "name": "stdout",
     "output_type": "stream",
     "text": [
      "[1 2 3 4]\n",
      "int32\n"
     ]
    }
   ],
   "source": [
    "#리스트로부터 객체생성\n",
    "lst = [1, 2, 3, 4]\n",
    "arr = np.array(lst)\n",
    "print(arr)\n",
    "\n",
    "#파이썬 리스트: 서로다른 타입의 데이터 저장 가능, 각 데이터 아이템은 객체\n",
    "#NumPy 배열:서로 다른타입의 데이터 저장 가능, 자료형 타입이 단일되면 고정된 타입의 배열로 처리한다 -> 즉 처리속도가 빨라지고 리스트보다 빨라짐\n",
    "print(arr.dtype)"
   ]
  },
  {
   "cell_type": "code",
   "execution_count": 10,
   "id": "6998ae5f-ed7f-46ea-9373-acf22d0cddec",
   "metadata": {},
   "outputs": [
    {
     "name": "stdout",
     "output_type": "stream",
     "text": [
      "104\n",
      "128\n"
     ]
    }
   ],
   "source": [
    "\"\"\"\n",
    "size comparison of ndarray and list object\n",
    "\"\"\"\n",
    "from sys import getsizeof\n",
    "\n",
    "list = [1,2, 3, 4, 5, 6]\n",
    "print(getsizeof(list)) # 56 -> 64 값과 주소를 동시에 저장\n",
    "\n",
    "arr = np.array(list) #96 -> 100 값만 저장\n",
    "print(getsizeof(arr))"
   ]
  },
  {
   "cell_type": "code",
   "execution_count": 11,
   "id": "5885d62e-89dc-49c0-acc7-e058f0c5310c",
   "metadata": {},
   "outputs": [
    {
     "ename": "NameError",
     "evalue": "name 'new_prices' is not defined",
     "output_type": "error",
     "traceback": [
      "\u001b[1;31m---------------------------------------------------------------------------\u001b[0m",
      "\u001b[1;31mNameError\u001b[0m                                 Traceback (most recent call last)",
      "\u001b[1;32m<ipython-input-11-7315da55ab91>\u001b[0m in \u001b[0;36m<module>\u001b[1;34m\u001b[0m\n\u001b[0;32m      5\u001b[0m \u001b[1;33m\u001b[0m\u001b[0m\n\u001b[0;32m      6\u001b[0m \u001b[0mnew_pirces\u001b[0m \u001b[1;33m=\u001b[0m \u001b[1;33m[\u001b[0m\u001b[0mprices\u001b[0m\u001b[1;33m-\u001b[0m\u001b[1;36m5\u001b[0m \u001b[1;32mfor\u001b[0m \u001b[0mprices\u001b[0m \u001b[1;32min\u001b[0m \u001b[0mprices\u001b[0m\u001b[1;33m]\u001b[0m\u001b[1;33m\u001b[0m\u001b[1;33m\u001b[0m\u001b[0m\n\u001b[1;32m----> 7\u001b[1;33m \u001b[0mprint\u001b[0m\u001b[1;33m(\u001b[0m\u001b[0mnew_prices\u001b[0m\u001b[1;33m)\u001b[0m\u001b[1;33m\u001b[0m\u001b[1;33m\u001b[0m\u001b[0m\n\u001b[0m\u001b[0;32m      8\u001b[0m \u001b[1;33m\u001b[0m\u001b[0m\n\u001b[0;32m      9\u001b[0m \u001b[0mprices_arr\u001b[0m \u001b[1;33m=\u001b[0m \u001b[0mnp\u001b[0m\u001b[1;33m.\u001b[0m\u001b[0marray\u001b[0m\u001b[1;33m(\u001b[0m\u001b[0mprices\u001b[0m\u001b[1;33m)\u001b[0m\u001b[1;33m\u001b[0m\u001b[1;33m\u001b[0m\u001b[0m\n",
      "\u001b[1;31mNameError\u001b[0m: name 'new_prices' is not defined"
     ]
    }
   ],
   "source": [
    "\"\"\"\n",
    "Operations with numpy array\n",
    "\"\"\"\n",
    "prices = [30, 25, 40, 20 ,20, 45, 50, 35]\n",
    "\n",
    "new_pirces = [prices-5 for prices in prices]\n",
    "print(new_prices)\n",
    "\n",
    "prices_arr = np.array(prices)\n",
    "prices_arr = prices_arr -5\n",
    "print(prices_arr)\n"
   ]
  },
  {
   "cell_type": "code",
   "execution_count": 12,
   "id": "ba9ed2db-4571-478b-863b-30e2f4fece21",
   "metadata": {},
   "outputs": [
    {
     "name": "stdout",
     "output_type": "stream",
     "text": [
      "[92 94 88 91 87]\n",
      "[ 79 100  86  93  91]\n",
      "[87 85 72 90 92]\n",
      "[89 87 74 92 94]\n",
      "[260 281 248 276 272]\n",
      "[86.66666667 93.66666667 82.66666667 92.         90.66666667]\n",
      "93\n",
      "[94 88]\n",
      "[[ 92  94  88  91  87]\n",
      " [ 79 100  86  93  91]\n",
      " [ 87  85  72  90  92]]\n",
      "87\n"
     ]
    },
    {
     "ename": "IndexError",
     "evalue": "index 3 is out of bounds for axis 0 with size 2",
     "output_type": "error",
     "traceback": [
      "\u001b[1;31m---------------------------------------------------------------------------\u001b[0m",
      "\u001b[1;31mIndexError\u001b[0m                                Traceback (most recent call last)",
      "\u001b[1;32m<ipython-input-12-6cca342a4930>\u001b[0m in \u001b[0;36m<module>\u001b[1;34m\u001b[0m\n\u001b[0;32m     24\u001b[0m \u001b[0mprint\u001b[0m\u001b[1;33m(\u001b[0m\u001b[0mstudent_scores\u001b[0m\u001b[1;33m)\u001b[0m\u001b[1;33m\u001b[0m\u001b[1;33m\u001b[0m\u001b[0m\n\u001b[0;32m     25\u001b[0m \u001b[0mprint\u001b[0m\u001b[1;33m(\u001b[0m\u001b[0mstudent_scores\u001b[0m\u001b[1;33m[\u001b[0m\u001b[1;36m2\u001b[0m\u001b[1;33m]\u001b[0m\u001b[1;33m[\u001b[0m\u001b[1;36m0\u001b[0m\u001b[1;33m]\u001b[0m\u001b[1;33m)\u001b[0m\u001b[1;33m\u001b[0m\u001b[1;33m\u001b[0m\u001b[0m\n\u001b[1;32m---> 26\u001b[1;33m \u001b[0mprint\u001b[0m\u001b[1;33m(\u001b[0m\u001b[0mstudent_scores\u001b[0m\u001b[1;33m[\u001b[0m\u001b[1;36m0\u001b[0m\u001b[1;33m:\u001b[0m\u001b[1;36m2\u001b[0m\u001b[1;33m]\u001b[0m\u001b[1;33m[\u001b[0m\u001b[1;36m3\u001b[0m\u001b[1;33m]\u001b[0m\u001b[1;33m)\u001b[0m\u001b[1;33m\u001b[0m\u001b[1;33m\u001b[0m\u001b[0m\n\u001b[0m",
      "\u001b[1;31mIndexError\u001b[0m: index 3 is out of bounds for axis 0 with size 2"
     ]
    }
   ],
   "source": [
    "test_1 = np.array([92, 94, 88, 91, 87])\n",
    "test_2 = np.array([79, 100, 86, 93, 91])\n",
    "test_3 = np.array([87, 85, 72, 90, 92])\n",
    "print(test_1)\n",
    "print(test_2)\n",
    "print(test_3)\n",
    "\n",
    "test_3_fixed = test_3 +2\n",
    "print(test_3_fixed)\n",
    "\n",
    "total_grade = test_1+ test_2+test_3_fixed\n",
    "print(total_grade)\n",
    "\n",
    "final_grade = total_grade / 3\n",
    "print(final_grade)\n",
    "\n",
    "jeremy_test_2 = test_2[3]\n",
    "print(jeremy_test_2 )\n",
    "\n",
    "manual_adwoa_test_1 = np.array([test_1[1], test_1[2]])\n",
    "print(manual_adwoa_test_1  )\n",
    "\n",
    "student_scores = np.array([test_1,test_2,test_3])\n",
    "print(student_scores)\n",
    "print(student_scores[2][0])\n",
    "print(student_scores[0:2][3])"
   ]
  },
  {
   "cell_type": "code",
   "execution_count": 13,
   "id": "b8bdc22d-c16f-47a1-98b7-8b33954fbe4a",
   "metadata": {},
   "outputs": [
    {
     "name": "stdout",
     "output_type": "stream",
     "text": [
      "[ True False False False False False  True  True  True  True]\n",
      "[10  9  8  9  7]\n",
      "[10  2  2  3  9  8  9  7]\n"
     ]
    }
   ],
   "source": [
    "\"\"\"\n",
    "배열 원소 단위의 논리 연산\n",
    "\"\"\"\n",
    "a = np.array([10, 2, 2, 4, 5, 3, 9, 8, 9, 7])\n",
    "mask = a>5\n",
    "print(mask)\n",
    "\n",
    "#논리식을 만족하는 부분집합 구하기 =selection\n",
    "selected = a[a > 5]\n",
    "print(selected)\n",
    "#논리식 결랍\n",
    "selected = a[(a>6) | (a<4)]\n",
    "print(selected)"
   ]
  },
  {
   "cell_type": "code",
   "execution_count": 14,
   "id": "983faf88-ccf3-4ab7-b16f-cdc21ff7e6d9",
   "metadata": {},
   "outputs": [
    {
     "data": {
      "text/plain": [
       "'\\n'"
      ]
     },
     "execution_count": 14,
     "metadata": {},
     "output_type": "execute_result"
    }
   ],
   "source": [
    "\"\"\"\n",
    "\"\"\"\n",
    "#배열속성 지정: 배열의 크기, 형상(차원), 메모리 소비량, 데이터 타입을 결정\n",
    "#배열 인덱싱: 배열의 개별 원소에 접근 및 값 할당\n",
    "#배열 슬라이싱: 배열의 부분집합을 계산\n",
    "#배열 재구조화:배열의 형상을 변경\n",
    "#배열 결합 및 분할\n",
    "\n",
    "#np.arange(start(옵션),stop*(필수),step(옵션)): 특정 범위의 정수 배열 생성\n",
    "#-start:범위 시작값(포함), 디폴트:0\n",
    "#-stop:범위 마지막값(제외)\n",
    "#-step:간격, 디폴트값 1"
   ]
  },
  {
   "cell_type": "code",
   "execution_count": 18,
   "id": "66b52ce8-bdef-48fc-9c71-76a29840a9b0",
   "metadata": {},
   "outputs": [
    {
     "name": "stdout",
     "output_type": "stream",
     "text": [
      "[[3 3 7 9]\n",
      " [3 5 2 4]\n",
      " [7 6 8 8]]\n"
     ]
    }
   ],
   "source": [
    "\"\"\"\n",
    "\"\"\"\n",
    "#난수 배열 생성하기\n",
    "#-np.random.seed(num):똑같은 난수 배열 생성을 위한 시드 값\n",
    "#-np.random.randint(high,size):정수로 구성된 난수 배열 생성\n",
    "\n",
    "np.random.seed(0)\n",
    "aww=np.random.randint(10, size= 2)\n",
    "aww2=np.random.randint(10, size= (6,8))\n",
    "print(aww2)"
   ]
  },
  {
   "cell_type": "code",
   "execution_count": 22,
   "id": "896919af-edb0-4a69-a82e-8785a132dcd6",
   "metadata": {},
   "outputs": [
    {
     "name": "stdout",
     "output_type": "stream",
     "text": [
      "[[3 3 7 9]\n",
      " [3 5 2 4]\n",
      " [7 6 8 8]]\n",
      "2\n",
      "(3, 4)\n",
      "12\n",
      "int32\n",
      "4\n",
      "48\n"
     ]
    }
   ],
   "source": [
    "#Attributes\n",
    "\n",
    "print(aww2)\n",
    "print(aww2.ndim)\n",
    "print(aww2.shape)#***중요\n",
    "print(aww2.size)#***중요\n",
    "print(aww2.dtype)#***중요\n",
    "print(aww2.itemsize)\n",
    "print(aww2.nbytes)"
   ]
  },
  {
   "cell_type": "code",
   "execution_count": 26,
   "id": "2e3a91f2-fa2c-456f-9d10-5c15ee764b12",
   "metadata": {},
   "outputs": [
    {
     "name": "stdout",
     "output_type": "stream",
     "text": [
      "[[0 3]\n",
      " [3 3]]\n",
      "[[5 0 3 3 7 9 3 5]\n",
      " [2 4 7 6 8 8 1 6]\n",
      " [7 7 8 1 5 9 8 9]\n",
      " [4 3 0 3 5 0 2 3]\n",
      " [8 1 3 3 3 7 0 1]\n",
      " [9 9 0 4 7 3 2 7]]\n",
      "[[99  0]\n",
      " [ 2  4]]\n",
      "[[99  0  3  3  7  9  3  5]\n",
      " [ 2  4  7  6  8  8  1  6]\n",
      " [ 7  7  8  1  5  9  8  9]\n",
      " [ 4  3  0  3  5  0  2  3]\n",
      " [ 8  1  3  3  3  7  0  1]\n",
      " [ 9  9  0  4  7  3  2  7]]\n"
     ]
    }
   ],
   "source": [
    "#배열 슬라이싱: 배열의 부분집합을 선택\n",
    "#-arr[start:stop:step]\n",
    "#다차원 배열 슬라이싱\n",
    "#2차원 배열:arr[start1:stop1:step1, start2:stop2:step2]\n",
    "np.random.seed(0)\n",
    "aww2=np.random.randint(10, size= (6,8))\n",
    "arr_sub = aww2[3:5,2:4]\n",
    "print(arr_sub)\n",
    "#배열 슬라이스는 복사복이 아닌 뷰 -> 배열 슬라이스 값을 변경하면 원본 배열 값도 변경된다.\n",
    "np.random.seed(0)\n",
    "aww2=np.random.randint(10, size= (6,8))\n",
    "print(aww2)\n",
    "arr_sub = aww2[:2,:2]\n",
    "arr_sub[0][0] = 99\n",
    "print(arr_sub)\n",
    "print(aww2)"
   ]
  },
  {
   "cell_type": "code",
   "execution_count": 3,
   "id": "25aa2634-ed78-4773-953d-e33367a03906",
   "metadata": {},
   "outputs": [
    {
     "name": "stdout",
     "output_type": "stream",
     "text": [
      "19.4 ns ± 0.201 ns per loop (mean ± std. dev. of 7 runs, 100000000 loops each)\n"
     ]
    }
   ],
   "source": [
    "\"\"\"\n",
    "\"\"\"\n",
    "#유니버셜 함수:NumPy에서 제공하는 벡터화 연산 함수\n",
    "#유연한 연산 제공: 스칼라-배열, 배열-배열, 다차원 배열등\n",
    "#- 다차원 배열에 대한 원소 별 연산을 수행\n",
    "#- 벡터화: 루프연산을 인터프리터 계층이 아닌 컴파일 계층에서 수행 -> 배열연산을 빠르게 처리\n",
    "import numpy as np\n",
    "big_array = np.random.randint(1, 100, size = 1000000)\n",
    "\n",
    "# 주피터에서 제공하는 시간측정 함수\n",
    "%timeit big_array"
   ]
  },
  {
   "cell_type": "code",
   "execution_count": 9,
   "id": "d01551ae-c15d-4941-9361-3a1ae1c5c29e",
   "metadata": {},
   "outputs": [
    {
     "name": "stdout",
     "output_type": "stream",
     "text": [
      "[5 8 9 5 0] [0 1 7 6 9]\n",
      "[ 3  6  7  3 -2] [0 1 7 6 9]\n",
      "[ 3  7 14  9  7]\n",
      "[[2 4 5 2 4]\n",
      " [2 4 7 7 9]\n",
      " [1 7 0 6 9]]\n",
      "[[ 4 16 25  4 16]\n",
      " [ 4 16 49 49 81]\n",
      " [ 1 49  0 36 81]]\n"
     ]
    }
   ],
   "source": [
    "\"\"\"\n",
    "numpy.ufunc\n",
    "\"\"\"\n",
    "np.random.seed(1)\n",
    "arr1 = np.random.randint(10, size = 5)\n",
    "arr2 = np.random.randint(10, size = 5)\n",
    "print(arr1, arr2)\n",
    "arr1 = arr1 - 2\n",
    "print(arr1, arr2)\n",
    "\n",
    "arr3 = arr1 + arr2\n",
    "print(arr3)\n",
    "\n",
    "arr4 = np.random.randint(10, size=(3,5))\n",
    "print(arr4)\n",
    "\n",
    "arr5 = arr4 ** 2\n",
    "print(arr5)\n",
    "#-유니버셜 함수의 벡터화 연산은 파이썬 루프로 구현된 연산보다 대부분 더 효율적이다.\n",
    "#- 파이썬 반복문을 작성할 때 벡터화 연산으로 대체 가능한지 검토할 필요가 있다.\n",
    "\n",
    "#배열의 사칙연산: 파이썬 기본 산술 연산자 또는 UFunc 사용\n",
    "#arr1 = arr1 + 2 == np.add(arr1, 3)"
   ]
  },
  {
   "cell_type": "code",
   "execution_count": 15,
   "id": "39a23a8c-14c0-4916-bc5f-f965420bbd25",
   "metadata": {},
   "outputs": [
    {
     "name": "stdout",
     "output_type": "stream",
     "text": [
      "[2 1 0 1 2]\n",
      "[  0.  25.  50.  75. 100.]\n",
      "[0.         1.57079633 3.14159265]\n",
      "[0.0000000e+00 1.0000000e+00 1.2246468e-16]\n",
      "[ 1.000000e+00  6.123234e-17 -1.000000e+00]\n",
      "[ 0.00000000e+00  1.63312394e+16 -1.22464680e-16]\n"
     ]
    }
   ],
   "source": [
    "#np.abs():절대값 함수->파이썬에서 abs()을 기본으로 제공한다->백터화 연산\n",
    "x = np.array([-2,-1, 0, 1, 2])\n",
    "print(np.abs(x))\n",
    "\n",
    "#np.linspce(start, stop, num(몇개의 구간으로나누는지)): 선형 간격의 벡터 생성 ->다양한 벡터/행렬 생성에 자주 사용된다.\n",
    "x = np.linspace(0, 100, 5)\n",
    "print(x)\n",
    "\n",
    "#삼각함수: 데이터 과학에서 자주 사용되는 함수\n",
    "#np.sin() 사인 함수\n",
    "#np.cos() 코사인 함수\n",
    "#np.tan() 탄젠트 함수\n",
    "theta = np.linspace(0, np.pi, 3)\n",
    "print(theta)\n",
    "print(np.sin(theta))\n",
    "print(np.cos(theta))\n",
    "print(np.tan(theta))\n",
    "\n",
    "x = np.linspace(0, 10)"
   ]
  },
  {
   "cell_type": "code",
   "execution_count": 33,
   "id": "2f99357f-aebb-4632-b3d5-bfaa0d62fe1f",
   "metadata": {},
   "outputs": [
    {
     "name": "stdout",
     "output_type": "stream",
     "text": [
      "[1 2 3 4]\n",
      "10\n",
      "[1 2 3 4]\n",
      "24\n",
      "[ 1  3  6 10]\n",
      "[0.5507979  0.70814782 0.29090474 ... 0.93033748 0.80429816 0.47400579]\n",
      "sum =  500422.19897015305\n",
      "62.6 ms ± 142 µs per loop (mean ± std. dev. of 7 runs, 10 loops each)\n",
      "287 µs ± 406 ns per loop (mean ± std. dev. of 7 runs, 1000 loops each)\n"
     ]
    }
   ],
   "source": [
    "#데이터의 기술통계를 위한 집계함수 제공\n",
    "#reduce():배열을 특정 연산으로 축소\n",
    "x = np.arange(1, 5)\n",
    "print(x)\n",
    "agg = np.add.reduce(x)\n",
    "agg2 = np.multiply.reduce(x)\n",
    "print(agg)\n",
    "print(x)\n",
    "print(agg2)\n",
    "\n",
    "#accumlate(): 계산의 중간 결과들을 배열으로 저장\n",
    "accum = np.add.accumulate(x)\n",
    "print(accum)\n",
    "\n",
    "#배열 함계 게산:np.sum()->파이썬 내장함수 sum()보다 연산이 빠름\n",
    "np.random.seed(3)\n",
    "arr = np.random.rand(1000000) #rand(): 0~부터 값 생성\n",
    "print(arr)\n",
    "print(\"sum = \", np.sum(arr))\n",
    "%timeit sum(arr)\n",
    "%timeit np.sum(arr)"
   ]
  },
  {
   "cell_type": "code",
   "execution_count": 41,
   "id": "195b7445-3edc-43c1-9c84-428550ddb29d",
   "metadata": {},
   "outputs": [
    {
     "name": "stdout",
     "output_type": "stream",
     "text": [
      "max =  0.9999996367889004\n",
      "min =  1.5496004267534502e-06\n",
      "mean =  0.500422198970153\n",
      "median =  0.5005659265960778\n",
      "percentile =  0.9001765340710965\n",
      "False\n",
      "True\n"
     ]
    }
   ],
   "source": [
    "print(\"max = \",np.max(arr))\n",
    "print(\"min = \",np.min(arr))\n",
    "print(\"mean = \",np.mean(arr))\n",
    "print(\"median = \",np.median(arr))\n",
    "print(\"percentile = \",np.percentile(arr, 90))\n",
    "\n",
    "print(np.any(arr>1))\n",
    "print(np.all(arr>0))"
   ]
  },
  {
   "cell_type": "code",
   "execution_count": 44,
   "id": "f22d1ee6-4a30-481f-9cbc-d580332add35",
   "metadata": {},
   "outputs": [
    {
     "name": "stdout",
     "output_type": "stream",
     "text": [
      "[[3 6 6 0]\n",
      " [9 8 4 7]\n",
      " [0 0 7 1]]\n",
      "51\n",
      "[12 14 17  8]\n",
      "[15 28  8]\n"
     ]
    }
   ],
   "source": [
    "#다차원 집계: 특정차원을 기준으로 집계 ->axis \n",
    "np.random.seed(5)\n",
    "arr = np.random.randint(10, size = (3, 4))\n",
    "print(arr)\n",
    "print(np.sum(arr))\n",
    "print(np.sum(arr, axis = 0))#axis = 0 -> 세로 axis = 1 ->가로\n",
    "print(np.sum(arr, axis = 1))"
   ]
  },
  {
   "cell_type": "code",
   "execution_count": 5,
   "id": "79afc6ce-46d5-4a92-8e12-42ec93d28c32",
   "metadata": {},
   "outputs": [
    {
     "name": "stdout",
     "output_type": "stream",
     "text": [
      "[[1. 1. 1.]\n",
      " [1. 1. 1.]\n",
      " [1. 1. 1.]]\n",
      "[0 1 2]\n",
      "[[1. 2. 3.]\n",
      " [1. 2. 3.]\n",
      " [1. 2. 3.]]\n",
      "[0 1 2]\n",
      "[[0]\n",
      " [1]\n",
      " [2]]\n",
      "[0 1 2]\n",
      "[[0 1 2]\n",
      " [1 2 3]\n",
      " [2 3 4]]\n"
     ]
    }
   ],
   "source": [
    "\"\"\"\n",
    "Casting\n",
    "\"\"\"\n",
    "import numpy as np\n",
    "#데이터 타입 변경: 캐스팅\n",
    "#브로드캐스팅: 다른 크기의 배열간 이항 연산을 수행하는 기능\n",
    "#   - 유니버셜 함수에서 지원 ex)배열 - 스칼라 연산\n",
    "# a = np.array([0, 1, 2]) a + 5 와  a = np.array([0, 1, 2]) b = np.array([5,5,5]) a + b dhk rkxek\n",
    "\n",
    "#브로드캐스팅의 장점: 값 복제가 발생하지 않는다.\n",
    "\n",
    "# a = np.ones((3, 3)) -> 3x3사이즈의 2차원 배열에 전부 1이 대입된다.\n",
    "x = np.ones((3, 3))\n",
    "print(x)\n",
    "y = np.array(range(3))\n",
    "print(y)\n",
    "print( x + y)\n",
    "#y의 shape를 확장하고 더한다\n",
    "\n",
    "a = np.array(range(3))\n",
    "print(a)\n",
    "a = a[:, np.newaxis] # == a.reshpae((3,1))\n",
    "print(a)\n",
    "b = np.array(range(3))\n",
    "print(b)\n",
    "print(a +b)\n",
    "\n",
    "#브로드캐스팅은 다음의 규칙들을 따름\n",
    "# 규칙1: 두 배열의 차원수가 다른경우-> 더 적은 차원의 배열에 차원을 추가한다.\n",
    "\n",
    "# 규칙2: 두 배열의 형상이 특정 차원에서 일치하지 않는경우 -> 해당 차원의 형상이 1인 배열을 다른 배열의 형상과 일치하도록 증가\n",
    "\n",
    "# 규칙3: 임의의 차원에서 크기가 일치하지 않고 1도 아닌경우 -> 브로드캐스팅 불가\n"
   ]
  },
  {
   "cell_type": "code",
   "execution_count": 6,
   "id": "bec01767-3469-4ef1-b94b-5bc126d4cfac",
   "metadata": {},
   "outputs": [
    {
     "name": "stdout",
     "output_type": "stream",
     "text": [
      "[1 2 3 4 5]\n"
     ]
    },
    {
     "data": {
      "text/plain": [
       "array([ True,  True, False, False, False])"
      ]
     },
     "execution_count": 6,
     "metadata": {},
     "output_type": "execute_result"
    }
   ],
   "source": [
    "#배열에 대한 비교 연산 -> 부울 배열 출력\n",
    "#부울배열(또는 마스크): 배열의 값을 추출, 수정, 계산, 조작할 때 사용\n",
    "x = np.array(range(1,6))\n",
    "print(x)\n",
    "x < 3"
   ]
  },
  {
   "cell_type": "code",
   "execution_count": 17,
   "id": "05310c93-3654-4f5c-94ee-cb814b2b1ff7",
   "metadata": {},
   "outputs": [
    {
     "name": "stdout",
     "output_type": "stream",
     "text": [
      "[[5 0 3 3]\n",
      " [7 9 3 5]\n",
      " [2 4 7 6]]\n",
      "[[ True  True  True  True]\n",
      " [False False  True  True]\n",
      " [ True  True False False]]\n",
      "8\n",
      "8\n",
      "False\n",
      "False\n"
     ]
    }
   ],
   "source": [
    "np.random.seed(0)\n",
    "x = np.random.randint(10, size =(3, 4))\n",
    "print(x)\n",
    "print(x < 6)\n",
    "#부울 배열을 이용한 연산: 원소 개수 세기 -Boolean의 정수표현 True = 1 False = 0\n",
    "print(np.count_nonzero(x < 6)) # 부울 배열중에 True인 원소의 개수 출력\n",
    "print(np.sum( x < 6))\n",
    "\n",
    "print(np.any( x > 9)) #부울 배열중에 9보다 큰값이 있는가?\n",
    "print(np.all( x > 1)) #부울 배열의 모든값이 1보다 큰가?"
   ]
  },
  {
   "cell_type": "code",
   "execution_count": 32,
   "id": "150561ed-26da-4db4-a7ad-c70e095e9e70",
   "metadata": {},
   "outputs": [
    {
     "name": "stdout",
     "output_type": "stream",
     "text": [
      "[[5 8 9]\n",
      " [5 0 0]\n",
      " [1 7 6]]\n",
      "[0 0 1]\n",
      "0.4714045207910317\n",
      "0\n",
      "0.3333333333333333\n",
      "1\n"
     ]
    }
   ],
   "source": [
    "# 마스킹 연산: 부울 배열을 마스크로 사용하여 True를 만족하는 값들을 선택\n",
    "np.random.seed(1)\n",
    "x = np.random.randint(10, size=(3, 3))\n",
    "\n",
    "print(x)\n",
    "print(x[x<5])\n",
    "print(np.std(x[x<5])) #표준편차\n",
    "print(np.min(x[x<5])) #최소값\n",
    "print(np.mean(x[x<5])) #평균값 출력\n",
    "print(np.max(x[x<5])) #최대값\n"
   ]
  },
  {
   "cell_type": "code",
   "execution_count": 38,
   "id": "96df8151-e73f-415c-897a-aaf3042b2786",
   "metadata": {},
   "outputs": [
    {
     "name": "stdout",
     "output_type": "stream",
     "text": [
      "[24  3 56 72  0 21 19 74 41 10]\n",
      "[56 72  0]\n"
     ]
    }
   ],
   "source": [
    "#지금까지 배운 배열 원소 접근 방법\n",
    "#- 인덱싱(X[0]), 슬라이싱(X[2:4]), 마스킹 연산(X[X>4])\n",
    "\n",
    "#펜시 인덱싱:한 번에 여러 배열 원소에 접근하는 방법\n",
    "#- 단일 스칼라 대신 인덱스 배열을 전달\n",
    "np.random.seed(3)\n",
    "x = np.random.randint(100, size = 10)\n",
    "print(x)\n",
    "ind = [2, 3, 4]\n",
    "print(x[ind])"
   ]
  },
  {
   "cell_type": "code",
   "execution_count": 45,
   "id": "618c1508-39d0-4435-b867-220085ff7014",
   "metadata": {},
   "outputs": [
    {
     "name": "stdout",
     "output_type": "stream",
     "text": [
      "[[9 4 0 1 9]\n",
      " [0 1 8 9 0]\n",
      " [8 6 4 3 0]]\n",
      "[4 9 4]\n"
     ]
    }
   ],
   "source": [
    "np.random.seed(10)\n",
    "x = np.random.randint(10, size = (3,5))\n",
    "print(x)\n",
    "row = [0, 1, 2]\n",
    "col = [ 1, 3, 2]\n",
    "#[0][1], [1][3], [2][2] 출력\n",
    "print(x[row,col])\n",
    "\n",
    "row  = np.array([0, 1, 2])\n",
    "col  = np.array([2, 1, 4])\n",
    "\n",
    "x = [row[:,np.newaxis], col]"
   ]
  },
  {
   "cell_type": "code",
   "execution_count": null,
   "id": "4a4f6dd3-d36c-45ff-accb-f71fc7706886",
   "metadata": {},
   "outputs": [],
   "source": [
    "#numpy:수치연산에 최적화된 라이브러리 - 벡터화된 연산:코드 실행 속도 증가 및 메모리 절약\n",
    "\n",
    "#브로드캐스팅: 다른 크기의 배열간 연산 가능 - 유니버설 함수를 더 쉽게 사용한다.\n",
    "\n",
    "#마스킹연산: 부울 배열을 이용한 배열원소 접근\n",
    "\n",
    "#팬시 인덱싱: 인덱스 배열을 이용한 배열 원소 접근"
   ]
  }
 ],
 "metadata": {
  "kernelspec": {
   "display_name": "Python 3",
   "language": "python",
   "name": "python3"
  },
  "language_info": {
   "codemirror_mode": {
    "name": "ipython",
    "version": 3
   },
   "file_extension": ".py",
   "mimetype": "text/x-python",
   "name": "python",
   "nbconvert_exporter": "python",
   "pygments_lexer": "ipython3",
   "version": "3.8.8"
  }
 },
 "nbformat": 4,
 "nbformat_minor": 5
}
