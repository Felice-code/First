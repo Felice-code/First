{
 "cells": [
  {
   "cell_type": "code",
   "execution_count": 3,
   "id": "ca8d3d2d-50f6-4018-941b-71b471100a7d",
   "metadata": {},
   "outputs": [
    {
     "name": "stdout",
     "output_type": "stream",
     "text": [
      "Hello World!\n",
      "100\n",
      "3.14\n"
     ]
    }
   ],
   "source": [
    "\"\"\"\n",
    "print() function\n",
    "\"\"\"\n",
    "\n",
    "print(\"Hello World!\")\n",
    "print(100)\n",
    "pi = 3.14\n",
    "print(pi)"
   ]
  },
  {
   "cell_type": "code",
   "execution_count": 4,
   "id": "fab636fd-8ea1-4f97-8b4e-b12b06ae635d",
   "metadata": {},
   "outputs": [],
   "source": [
    "\"\"\"\n",
    "asd\n",
    "\"\"\"\n",
    "\n",
    "my_name = \"lee\"\n",
    "age = 23\n",
    "my_email = \"hamgame3@hs.ac.kr\"\n"
   ]
  },
  {
   "cell_type": "code",
   "execution_count": 5,
   "id": "10c5915d-4cf8-44c6-8b0e-8885fc4a7492",
   "metadata": {},
   "outputs": [],
   "source": [
    "\"\"\"\n",
    "Data Type: Integer\n",
    "\"\"\"\n",
    "\n",
    "value = 10\n",
    "my_Phone = 2\n",
    "my_book = 27"
   ]
  },
  {
   "cell_type": "code",
   "execution_count": 6,
   "id": "52d59998-aa25-4cb6-b055-bb969a07dd5b",
   "metadata": {},
   "outputs": [],
   "source": [
    "\"\"\"Data Type: Real Number\"\"\"\n",
    "\n",
    "PI = 3.14\n",
    "my_tall = 173.4\n",
    "gold_price = 67502.96\n"
   ]
  },
  {
   "cell_type": "code",
   "execution_count": 9,
   "id": "7106f462-710a-44d7-9162-5eaebacae341",
   "metadata": {},
   "outputs": [
    {
     "name": "stdout",
     "output_type": "stream",
     "text": [
      "SamSung\n",
      "pasta\n",
      "BMW\n",
      "SamSungpastaBMW\n"
     ]
    }
   ],
   "source": [
    "\"\"\"\n",
    "Data Type: String\n",
    "\"\"\"\n",
    "favorite_company = 'SamSung'\n",
    "favorite_food = 'pasta'\n",
    "favorite_carbrand = 'BMW'\n",
    "\n",
    "print(favorite_company)\n",
    "print(favorite_food)\n",
    "print(favorite_carbrand)\n",
    "\n",
    "print(favorite_company + favorite_food +favorite_carbrand)\n"
   ]
  },
  {
   "cell_type": "code",
   "execution_count": 8,
   "id": "165070c8-95a1-4ac5-a271-87b96c9963b3",
   "metadata": {},
   "outputs": [
    {
     "name": "stdout",
     "output_type": "stream",
     "text": [
      "Error\n",
      "continue\n"
     ]
    }
   ],
   "source": [
    "\"\"\"\n",
    "Exception Handling\n",
    "\"\"\"\n",
    "\n",
    "x = 1\n",
    "try:\n",
    "    print(y)\n",
    "    print(x)\n",
    "\n",
    "except:\n",
    "    print(\"Error\")\n",
    "    \n",
    "print(\"continue\")"
   ]
  },
  {
   "cell_type": "code",
   "execution_count": 4,
   "id": "99a5ae9a-c611-424a-b992-0d5cfb5a057c",
   "metadata": {},
   "outputs": [
    {
     "name": "stdout",
     "output_type": "stream",
     "text": [
      "[2, 3, 5, 7, 11, 11]\n",
      "[]\n"
     ]
    }
   ],
   "source": [
    "\"\"\"\n",
    "List\n",
    "\"\"\"\n",
    "primes = [2, 3, 5, 7, 11, 11] #중복을 허용한다.\n",
    "print(primes)\n",
    "# 리스트 객체 초기화\n",
    "none_list = []\n",
    "print(none_list)"
   ]
  },
  {
   "cell_type": "code",
   "execution_count": 7,
   "id": "d83ff92b-0fca-4f13-b6b1-451399b8ed38",
   "metadata": {},
   "outputs": [
    {
     "name": "stdout",
     "output_type": "stream",
     "text": [
      "['jenny', 1, 1.4, True]\n",
      "[['a', 1], ['b', 2]]\n",
      "2\n"
     ]
    }
   ],
   "source": [
    "\"\"\"\n",
    "Multiple different data type\n",
    "\"\"\"\n",
    "# 여러 데이터 타입의 아이템을 포함할 수 있다.(정수, 문자열, 불린, 리스트 객체등등)\n",
    "mixed = ['jenny', 1, 1.4, True]\n",
    "print(mixed)\n",
    "list_of_lists = [['a', 1], [\"b\", 2]]\n",
    "print(list_of_lists)\n",
    "print(list_of_lists[1][1])\n"
   ]
  },
  {
   "cell_type": "code",
   "execution_count": 10,
   "id": "f31959b5-912f-4d78-b57b-bbd030311a05",
   "metadata": {},
   "outputs": [
    {
     "name": "stdout",
     "output_type": "stream",
     "text": [
      "aaa\n",
      "bbb\n",
      "ccc\n",
      "ddd\n",
      "ddd\n",
      "ccc\n",
      "bbb\n",
      "aaa\n"
     ]
    }
   ],
   "source": [
    "\"\"\"\n",
    "Zero-indexing\n",
    "\"\"\"\n",
    "#인덱스: 리스트의 특정 아이템 위치를 나타내는 정수\n",
    "#-list[index]:인덱스를 사용하여 리스트 내의 특정 아이템에 접근\n",
    "# zero-indexing방식 : 0부터 시작한다.\n",
    "# - list[0]:리스트의 첫 아이템\n",
    "\n",
    "name = ['aaa', 'bbb', 'ccc', 'ddd']\n",
    "print(name[0])\n",
    "print(name[1])\n",
    "print(name[2])\n",
    "print(name[3])\n",
    "\n",
    "#음수 인덱스 방식: 리스트의 마지막 아이템을 기준으로 인덱싱 -1 -2 -3 ~~\n",
    "print(name[-1])\n",
    "print(name[-2])\n",
    "print(name[-3])\n",
    "print(name[-4])"
   ]
  },
  {
   "cell_type": "code",
   "execution_count": 12,
   "id": "00506b29-77b1-47e6-b997-113f3b808d6b",
   "metadata": {},
   "outputs": [
    {
     "data": {
      "text/plain": [
       "'\\nList slicing\\n'"
      ]
     },
     "execution_count": 12,
     "metadata": {},
     "output_type": "execute_result"
    }
   ],
   "source": [
    "\"\"\"\n",
    "List slicing\n",
    "\"\"\"\n",
    "#슬라이스: 리스트의 부분집합\n",
    "#리스트 슬라이싱: 특정 인덱스 범위에 해당되는 슬라이스를 구하는 연산\n",
    "#-사용법 List[1, 2, 3, 4, 5, 6] list[0:2] -> 1, 2\n",
    "#리스트 아이템 수정: list[index] = new value\n"
   ]
  },
  {
   "cell_type": "code",
   "execution_count": 14,
   "id": "446d6e7a-656d-4cd7-8ee0-0fae2e388732",
   "metadata": {},
   "outputs": [
    {
     "name": "stdout",
     "output_type": "stream",
     "text": [
      "6\n"
     ]
    }
   ],
   "source": [
    "\"\"\"\n",
    "Multi-Dimensional Lists\n",
    "\"\"\"\n",
    "# 2차원 리스트 선언: List = [[sub_list1], [sub_list2]]\n",
    "multi_list = [[1, 2, 3], [4, 5, 6], [7, 8, 9]]\n",
    "print(multi_list[1][2])\n",
    "\n",
    "# 2차원 리스트 아이템 수정:list[index][index] = new value\n"
   ]
  },
  {
   "cell_type": "code",
   "execution_count": 16,
   "id": "172000f9-c117-4002-901b-350ed565d380",
   "metadata": {},
   "outputs": [
    {
     "name": "stdout",
     "output_type": "stream",
     "text": [
      "[1, 2, 3, 4, 5, 6]\n"
     ]
    }
   ],
   "source": [
    "\"\"\"\n",
    "Adding Lists Tgether\n",
    "\"\"\"\n",
    "items_one = [1, 2, 3]\n",
    "items_two = [4, 5, 6]\n",
    "\n",
    "total_item = items_one + items_two\n",
    "print(total_item)"
   ]
  },
  {
   "cell_type": "code",
   "execution_count": 2,
   "id": "7095176e-5b8b-4f39-a0d9-b01531e16629",
   "metadata": {},
   "outputs": [
    {
     "name": "stdout",
     "output_type": "stream",
     "text": [
      "6\n",
      "2\n",
      "[2, 4, 3, 7, 10, 4, 1]\n",
      "[2, 1, 4, 3, 7, 10, 4, 1]\n",
      "[2, 4, 3, 7, 10, 4, 1]\n",
      "[2, 3, 4, 4, 7, 10]\n"
     ]
    }
   ],
   "source": [
    "\"\"\"\n",
    "Useful Method for Lists\n",
    "\"\"\"\n",
    "\n",
    "#len(): 리스트 크기를 리턴\n",
    "#count(): 특정 아이템의 개수를 리턴\n",
    "#append(): 아이템을 리스트의 끝에추가\n",
    "#insert(): 아이템을 리스트의 특정 위치에 추가\n",
    "#pop():특정 위치의 아이템을 삭제\n",
    "#remove(): 특정 아이템을 삭제\n",
    "#sort(): 리스트 내 아이템들을 정렬\n",
    "#sorted(): 정렬된 리스트를 리턴(원본 리스트를 건드리지 않고 싶을때 사용)\n",
    "back = [2, 4, 3, 7, 10, 4]\n",
    "size = len(back)\n",
    "print(size)\n",
    "count = back.count(4)\n",
    "print(count)\n",
    "back.append(1)\n",
    "print(back)\n",
    "back.insert(1, 1)\n",
    "print(back)\n",
    "back.pop(1)\n",
    "print(back)\n",
    "back.remove(1)\n",
    "#back.remove(213)\n",
    "back.sort()\n",
    "print(back)"
   ]
  },
  {
   "cell_type": "code",
   "execution_count": 3,
   "id": "37e2389f-2a29-4f3a-9cee-61f271bc049b",
   "metadata": {},
   "outputs": [
    {
     "data": {
      "text/plain": [
       "'\\nlopps\\n'"
      ]
     },
     "execution_count": 3,
     "metadata": {},
     "output_type": "execute_result"
    }
   ],
   "source": [
    "\"\"\"\n",
    "lopps\n",
    "\"\"\"\n",
    "#반복문: 프로그램의 특정 부분을 반복적으로 실행하기 위한 제어문\n",
    "#파이썬에서는 for whlie 키워드를 통해 반복문을 작성\n",
    "\n",
    "#순차적\n",
    "#제어문-if elif else\n",
    "#반복문-for while"
   ]
  },
  {
   "cell_type": "code",
   "execution_count": 7,
   "id": "08b81db5-9fe7-4c38-8992-f1541e6f4b47",
   "metadata": {},
   "outputs": [
    {
     "name": "stdout",
     "output_type": "stream",
     "text": [
      "1\n",
      "2\n",
      "3\n",
      "4\n",
      "5\n",
      "0\n",
      "1\n",
      "2\n",
      "3\n",
      "4\n"
     ]
    }
   ],
   "source": [
    "\"\"\"\n",
    "for loops\n",
    "\"\"\"\n",
    "#for문:리스트의 아이템 마다 반복문을 실행한다.\n",
    "#-> for A in B\n",
    "\n",
    "nums =[1, 2, 3, 4, 5]\n",
    "\n",
    "for num in nums:\n",
    "    print(num)\n",
    "\n",
    "#n 번 만큼 반복하고 싶을 땐? range(n)- n개의 정수들로 구성된 시르트를 반환(0, 1, 2, 3, 4, 5 ..., n-1)\n",
    "#range()\n",
    "for i in range(5):\n",
    "    print(i)"
   ]
  },
  {
   "cell_type": "code",
   "execution_count": 10,
   "id": "0eb568e0-c797-47d4-aa44-d40b0c42d95f",
   "metadata": {},
   "outputs": [
    {
     "name": "stdout",
     "output_type": "stream",
     "text": [
      "1\n",
      "3\n",
      "5\n"
     ]
    }
   ],
   "source": [
    "\"\"\"\n",
    "continue keyword\n",
    "\"\"\"\n",
    "#continue 키워드:남은 코드들을 건너뛰고 다음 반복을 시작한다.\n",
    "\n",
    "nums = [1, 2, 3, 4, 5, 6]\n",
    "for num in nums:\n",
    "    if num % 2 == 0:\n",
    "        continue\n",
    "    print(num)"
   ]
  },
  {
   "cell_type": "code",
   "execution_count": 13,
   "id": "f6ed7ed1-1769-45b2-bcf5-13a8202d4936",
   "metadata": {},
   "outputs": [
    {
     "name": "stdout",
     "output_type": "stream",
     "text": [
      "stage1is complete\n",
      "stage2is complete\n",
      "stage3is complete\n",
      "gameover\n"
     ]
    }
   ],
   "source": [
    "\"\"\"\n",
    "break keyword\n",
    "\"\"\"\n",
    "#break 키워드: 실행중인 반복문 종료\n",
    "\n",
    "game_play= ['stage1', 'stage2', 'stage3', 'gameover', 'stage4', 'stage5']\n",
    "\n",
    "for play in game_play:\n",
    "    \n",
    "    if play == \"gameover\":\n",
    "        print(\"gameover\")\n",
    "        break\n",
    "    print(play + \"is complete\")"
   ]
  },
  {
   "cell_type": "code",
   "execution_count": 25,
   "id": "04fc1085-1b68-49b7-9843-73f6c1398931",
   "metadata": {},
   "outputs": [
    {
     "name": "stdout",
     "output_type": "stream",
     "text": [
      "0\n",
      "1\n",
      "2\n",
      "3\n",
      "4\n",
      "[1, 2, 3, 4, 5, 6, 7, 8, 9, 10]\n",
      "['1']\n"
     ]
    }
   ],
   "source": [
    "\"\"\"\n",
    "list comprehension\n",
    "\"\"\"\n",
    "#리스트 컴프리헨션: for문을 이용한 리스트 생성\n",
    "#사용법: result = [expression for item in list]\n",
    "\n",
    "for i in range(5):\n",
    "    print(i)\n",
    "\n",
    "arr = [i+1 for i in range(10)]\n",
    "print(arr)\n",
    "\n",
    "#리스트 컴프리헨션에 조건을 정의할 수 있다.\n",
    "\n",
    "gamer = [['1', 'A'], ['2', 'B'], ['3', 'D']]\n",
    "good_gamer = [player[0] for player in gamer if player[1] == 'A']\n",
    "print(good_gamer)\n"
   ]
  },
  {
   "cell_type": "code",
   "execution_count": 28,
   "id": "17d2e64e-9fab-46e0-a261-c50e7abd3f0f",
   "metadata": {},
   "outputs": [
    {
     "name": "stdout",
     "output_type": "stream",
     "text": [
      "1 x 1 = 1\n",
      "1 x 2 = 2\n",
      "1 x 3 = 3\n",
      "2 x 1 = 2\n",
      "2 x 2 = 4\n",
      "2 x 3 = 6\n",
      "3 x 1 = 3\n",
      "3 x 2 = 6\n",
      "3 x 3 = 9\n"
     ]
    }
   ],
   "source": [
    "\"\"\"\n",
    "nested loops\n",
    "\"\"\"\n",
    "#중첩된 루프: 반복문안에 반복문이 있음\n",
    "one_to_third = [i+1 for i in range(3)]\n",
    "for i in one_to_third:\n",
    "    for j in one_to_third:\n",
    "        print(\"{} x {} = {}\".format(i, j, i*j))"
   ]
  },
  {
   "cell_type": "code",
   "execution_count": 29,
   "id": "6d036de7-dbe9-4c30-aa53-f42b9b1b1a59",
   "metadata": {},
   "outputs": [
    {
     "ename": "SyntaxError",
     "evalue": "invalid syntax (<ipython-input-29-78f3e8e6c4b0>, line 16)",
     "output_type": "error",
     "traceback": [
      "\u001b[1;36m  File \u001b[1;32m\"<ipython-input-29-78f3e8e6c4b0>\"\u001b[1;36m, line \u001b[1;32m16\u001b[0m\n\u001b[1;33m    */\u001b[0m\n\u001b[1;37m     ^\u001b[0m\n\u001b[1;31mSyntaxError\u001b[0m\u001b[1;31m:\u001b[0m invalid syntax\n"
     ]
    }
   ],
   "source": [
    "\"\"\"\n",
    "while loops\n",
    "\"\"\"\n",
    "#while문: 조건이 True일떄 반복 실행\n",
    "\n",
    "\"\"\"\n",
    "infinite loops\n",
    "\"\"\"\n",
    "#무한루프: 종료가 되지 않고 무한히 실행되는 경우 ->원인: while반복문 종료 조건이 없는경우\n",
    "\n",
    "x = 1\n",
    "y = 1\n",
    "while x < 5:\n",
    "    print(\"11\")\n",
    "    y +=1"
   ]
  }
 ],
 "metadata": {
  "kernelspec": {
   "display_name": "Python 3",
   "language": "python",
   "name": "python3"
  },
  "language_info": {
   "codemirror_mode": {
    "name": "ipython",
    "version": 3
   },
   "file_extension": ".py",
   "mimetype": "text/x-python",
   "name": "python",
   "nbconvert_exporter": "python",
   "pygments_lexer": "ipython3",
   "version": "3.8.8"
  }
 },
 "nbformat": 4,
 "nbformat_minor": 5
}
